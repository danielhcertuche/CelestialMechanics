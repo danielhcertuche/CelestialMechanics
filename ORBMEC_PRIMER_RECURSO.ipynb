{
 "cells": [
  {
   "cell_type": "markdown",
   "metadata": {
    "id": "OScgfUrlndpu"
   },
   "source": [
    "<div align=\"center\">\n",
    "    <h2> PRIMER RECURSO\n",
    "    <h5>Aplicación de los teoremas de conservación\n",
    "    <h5>Caso de estudio: el virial del Sistema Solar\n",
    "</div>"
   ]
  },
  {
   "cell_type": "markdown",
   "metadata": {
    "id": "bgL9Qwp3ndcO"
   },
   "source": [
    "<blockquote>\n",
    "Universidad de Antioquia. <br>\n",
    "Facultad de Ciencias Exactas y Naturales. <br>\n",
    "<b>Advertencia</b>: recursos creados como parte del desarrollo del curso mecánica celeste (0311602) del pregrado de astronomía de la Universidad de Antioquia, bajo la dirección del profesor Jorge Zuluaga.\n",
    "</blockquote>"
   ]
  },
  {
   "cell_type": "markdown",
   "metadata": {},
   "source": [
    "## Algunos conceptos importantes\n",
    "\n",
    "Para conocer las interacciones en el sistema solar se debe recurrir a las interacciones descritas por el problema de los N cuerpos. Para ello asumimos que la dinámica es estrictamente newtoniana, lo que incluye suponer que la única interacción a distancia entre las partículas es la interacción gravitacional. \n",
    "\n",
    "Primero, la interacción gravitacional como la fuerza gravitacional que produce una partícula de masa  M  sobre cualquier otra partícula de masa  m  situada en un punto arbitrario con posición relativa  r⃗   (donde  r⃗   es el vector que va de la posición de  M  a la del punto arbitratio) esta dada por :\n",
    "\n",
    "\\begin{equation}\n",
    "\\label{eq:fuerza_M_m}\n",
    "\\vec F=m\\left(-\\frac{GM}{r^3}{\\vec r}\\right)\n",
    "\\end{equation}\n",
    "\n",
    "\n",
    "Y dado que la fuerza gravitacional es una fuerza conservativa, entonces la función de energía potencial es igual a:\n",
    "\n",
    "\\begin{equation}\n",
    "\\label{eq:energia_potencial_gravitacional}\n",
    "U=-\\frac{G M m}{r}\n",
    "\\end{equation}\n",
    "\n",
    "Llevados a un sistema de N partículas, \n",
    "\n",
    "\\begin{equation}\n",
    "\\label{eq:ncuerpos_formulacion_ecuaciones}\n",
    "\\vec{F}_{ij} = -\\frac{Gm_i m_j}{r_{ij}^3} \\vec r_{ij} \\ \n",
    "\\Rightarrow\n",
    "\\left\\{\\ddot{\\vec r}_i= -\\sum_{j\\neq i} \\frac{\\mu_j}{r_{ij}^3} \\vec{r}_{ij} \\right\\}_{N}\n",
    "\\end{equation}\n",
    "\n",
    "Adicional a ello, si suponemos que nuestro sistema está aislado, podemos decir que hay con servación del momento lineal. Este teorema dice que si la fuerza externa total sobre un sistema de partículas es nula, el momentum total del sistema se mantiene constante: \n",
    "\n",
    "\\begin{equation}\n",
    "\\vec{F}^\\mathrm{E}=\\sum_i \\vec{F}_i^\\mathrm{E}=0\\Longleftrightarrow \\vec{P}=\\vec{P}_\\mathrm{CM}\n",
    "\\end{equation}\n",
    "\n",
    "Con $\\vec{P}_\\mathrm{CM}$ un vector constante.\\\n",
    "Además, si la torca externa total sobre un sistema de partículas es nula, el momento angular total del sistema se mantiene constante. El teorema de conservación del momento angular se puede escribir de la forma:\n",
    "\\begin{equation}\n",
    "\\vec{\\tau} = \\sum \\vec{r}_i\\times \\vec{F}^E_i=\\vec 0\\Longleftrightarrow \\vec{L}=\\vec{L}_\\mathrm{0}\n",
    "\\end{equation}\n",
    "\n",
    "Por el teorema del trabajo y energía, para un sistema de partículas se tiene que la energía cinética total del sistema es de la forma:\n",
    "\\begin{equation}\n",
    "\\label{eq:K_CM_interno}\n",
    "K = \\frac{1}{2} M V^2 + \\frac{1}{2} \\sum m_i {v_i}'^2,\n",
    "\\end{equation}\n",
    "\n"
   ]
  },
  {
   "cell_type": "markdown",
   "metadata": {
    "id": "VDp54po1wYkD"
   },
   "source": [
    "## Paquetes y librerias necesarias para el reto"
   ]
  },
  {
   "cell_type": "code",
   "execution_count": 1,
   "metadata": {
    "colab": {
     "base_uri": "https://localhost:8080/"
    },
    "executionInfo": {
     "elapsed": 6687,
     "status": "ok",
     "timestamp": 1645568413669,
     "user": {
      "displayName": "DANIEL HERALDO CERTUCHE GRUESO",
      "photoUrl": "https://lh3.googleusercontent.com/a/default-user=s64",
      "userId": "04319517319660053282"
     },
     "user_tz": 300
    },
    "id": "qu1GJVP_n1Ub",
    "outputId": "82b2f64e-795a-47b1-ff9d-3c495429366b"
   },
   "outputs": [],
   "source": [
    "!python -m pip install spiceypy &> /dev/null\n",
    "!python -m pip install matplotlib &> /dev/null\n",
    "\n",
    "%matplotlib inline\n",
    "\n",
    "import matplotlib\n",
    "import spiceypy as spy\n",
    "import numpy as np\n",
    "import matplotlib.pyplot as plt\n",
    "import itertools "
   ]
  },
  {
   "cell_type": "markdown",
   "metadata": {
    "id": "PwmlGK6xpWHS"
   },
   "source": [
    "Bajar los archivos necesarios de SPICE (https://naif.jpl.nasa.gov/pub/naif/generic_kernels/):"
   ]
  },
  {
   "cell_type": "code",
   "execution_count": 2,
   "metadata": {
    "colab": {
     "base_uri": "https://localhost:8080/"
    },
    "executionInfo": {
     "elapsed": 892,
     "status": "ok",
     "timestamp": 1645568414546,
     "user": {
      "displayName": "DANIEL HERALDO CERTUCHE GRUESO",
      "photoUrl": "https://lh3.googleusercontent.com/a/default-user=s64",
      "userId": "04319517319660053282"
     },
     "user_tz": 300
    },
    "id": "YW4hzAedqWR1",
    "outputId": "0af8ff4b-71d4-43a7-f444-361d3131473b"
   },
   "outputs": [],
   "source": [
    "!wget https://naif.jpl.nasa.gov/pub/naif/generic_kernels/lsk/naif0012.tls &> /dev/null"
   ]
  },
  {
   "cell_type": "code",
   "execution_count": 3,
   "metadata": {
    "colab": {
     "base_uri": "https://localhost:8080/"
    },
    "executionInfo": {
     "elapsed": 6523,
     "status": "ok",
     "timestamp": 1645568421064,
     "user": {
      "displayName": "DANIEL HERALDO CERTUCHE GRUESO",
      "photoUrl": "https://lh3.googleusercontent.com/a/default-user=s64",
      "userId": "04319517319660053282"
     },
     "user_tz": 300
    },
    "id": "OZcsVQkVqqMm",
    "outputId": "aff22d52-d21a-4c11-b6c8-b34fff414c9a"
   },
   "outputs": [],
   "source": [
    "!wget https://naif.jpl.nasa.gov/pub/naif/generic_kernels/spk/planets/de435.bsp &> /dev/null"
   ]
  },
  {
   "cell_type": "code",
   "execution_count": 4,
   "metadata": {
    "colab": {
     "base_uri": "https://localhost:8080/"
    },
    "executionInfo": {
     "elapsed": 925,
     "status": "ok",
     "timestamp": 1645568421974,
     "user": {
      "displayName": "DANIEL HERALDO CERTUCHE GRUESO",
      "photoUrl": "https://lh3.googleusercontent.com/a/default-user=s64",
      "userId": "04319517319660053282"
     },
     "user_tz": 300
    },
    "id": "tHpEX3Hvyn5h",
    "outputId": "3a95028e-26fc-4bc5-9854-66af7971e0b6"
   },
   "outputs": [],
   "source": [
    "!wget https://naif.jpl.nasa.gov/pub/naif/generic_kernels/pck/gm_de431.tpc &> /dev/null"
   ]
  },
  {
   "cell_type": "code",
   "execution_count": 5,
   "metadata": {
    "id": "X80gwTc5tLme"
   },
   "outputs": [],
   "source": [
    "#--------------------------------------------\n",
    "#--- Leer los archivos o núcleos de SPICE ---\n",
    "#--------------------------------------------\n",
    "spy.furnsh([\"naif0012.tls\",\"de435.bsp\",\"gm_de431.tpc\"])"
   ]
  },
  {
   "cell_type": "markdown",
   "metadata": {
    "id": "7YGWjnFgwXE-"
   },
   "source": [
    "## Punto 1\n",
    "\n",
    "Escoja una fecha específica (su fecha de nacimiento); usando exclusivamente SPICE, calcule la energía total del sistema formado por los 8 planetas y el Sol en Joules.  ¿Es positiva o negativa?.  Compare el orden de magnitud esa energía con el orden de magnitud de magnitud la energía cinética del planeta Júpiter.\n"
   ]
  },
  {
   "cell_type": "code",
   "execution_count": 6,
   "metadata": {
    "id": "eDD78n1P3h6N"
   },
   "outputs": [],
   "source": [
    "#--------------------------------------------\n",
    "#-----------  Fecha de nacimiento -----------\n",
    "#--------------------------------------------\n",
    "et=spy.str2et(\"2021-12-21 04:00:00 UTC-5\")\n",
    "\n",
    "#--------------------------------------------\n",
    "#------- Valor de G tomado de la clase  -----\n",
    "#--------------------------------------------\n",
    "G=6.67e-20  # km^3 / kg s^2\n",
    "\n",
    "#--------------------------------------------\n",
    "#----  Lista de los objetos de interés  -----\n",
    "#--------------------------------------------\n",
    "id_list=[\n",
    "    'Mercury Barycenter',\n",
    "    'Venus Barycenter',\n",
    "    'Earth-Moon Barycenter',\n",
    "    'Mars Barycenter',\n",
    "    'Jupiter Barycenter',\n",
    "    'Saturn Barycenter',\n",
    "    'Uranus Barycenter',\n",
    "    'Neptune Barycenter',\n",
    "    'Sun']\n",
    "\n",
    "Estados=dict()\n",
    "K_T=0\n",
    "\n",
    "\n",
    "for i in range(0,9):\n",
    "  estado_i,tf_i=spy.spkezr(id_list[i],et,\"ECLIPJ2000\",\"None\",'SSB')\n",
    "  #----------------------------------\n",
    "  #--- Posiciones y velocidades  ----\n",
    "  #----------------------------------\n",
    "  r_i=estado_i[0:3] #km \n",
    "  v_i=estado_i[3:6] #km/sec. \n",
    "  Estados['r_%d' % i]= r_i\n",
    "  Estados['v%d' % i]= v_i\n",
    "    \n",
    "  GM=spy.bodvrd(id_list[i],\"GM\",1)[1][0]\n",
    "  M_i=GM/G\n",
    "  Estados['M%d' % i]= M_i\n",
    "  #----------------------------------\n",
    "  #--- Energía cinetica -------------\n",
    "  #----------------------------------\n",
    "  K_i=M_i*spy.vnorm(v_i)**2/2  #kg(km/s)**2\n",
    "  K_T=K_T+K_i\n",
    "  Estados['K_%d' % i]= K_i\n",
    "  Estados['K_T']= K_T\n",
    "#-------------------------------------\n",
    "#--- Energía potencial gravitacional -\n",
    "#-------------------------------------\n",
    "b = [0,1,2,3,4,5,6,7,8]\n",
    "e = itertools.combinations(b,2)\n",
    "k=0\n",
    "U_T=0\n",
    "\n",
    "for i,j in e:\n",
    "  U_k=-G*Estados.get('M%d' %i)*Estados.get('M%d' %j) / spy.vnorm(Estados.get('r_%d' %i)-Estados.get('r_%d' %j) ) # (km**2)kg/(s**2)\n",
    "  U_T= U_T + U_k\n",
    "  Estados['U_%d' % k]= U_k\n",
    "  Estados['U_T']= U_T\n",
    "  k=k+1"
   ]
  },
  {
   "cell_type": "code",
   "execution_count": 7,
   "metadata": {
    "colab": {
     "base_uri": "https://localhost:8080/"
    },
    "executionInfo": {
     "elapsed": 37,
     "status": "ok",
     "timestamp": 1645568422532,
     "user": {
      "displayName": "DANIEL HERALDO CERTUCHE GRUESO",
      "photoUrl": "https://lh3.googleusercontent.com/a/default-user=s64",
      "userId": "04319517319660053282"
     },
     "user_tz": 300
    },
    "id": "X_ndLuBpjuyN",
    "outputId": "efb4ebc8-15e7-4eab-cd2c-534274f350a3"
   },
   "outputs": [
    {
     "name": "stdout",
     "output_type": "stream",
     "text": [
      "La energía total del sistema solar es :-1.98e+29 kg kmˆ2/sˆ2\n",
      "La energía cinética de jupiter es :1.75e+29 1.7520923466246774e+29 kg kmˆ2/sˆ2\n"
     ]
    }
   ],
   "source": [
    "#----------------------------------\n",
    "#--- Energía total ----------------\n",
    "#----------------------------------\n",
    "jup='K_4'\n",
    "E=Estados.get('K_T')+ Estados.get('U_T')  #kg(km/s)**2\n",
    "print(f'La energía total del sistema solar es :{E:.2e} kg kmˆ2/sˆ2') \n",
    "print(f'La energía cinética de jupiter es :{Estados.get(jup):.2e} 1.7520923466246774e+29 kg kmˆ2/sˆ2' )  "
   ]
  },
  {
   "cell_type": "markdown",
   "metadata": {
    "id": "RqF9F-ggnb2g"
   },
   "source": [
    "## Punto 2\n",
    "\n",
    "Usando también SPICE calcule la misma cantidad para un período de tiempo de 100 años (por ejemplo todo el siglo xx) en intervalos de entre 1 y 5 años.  Haga un gráfico de la energía como función del tiempo y muestre que el valor de esa cantidad es aproximadamente \"constante\", como lo predice la teoría.\n"
   ]
  },
  {
   "cell_type": "code",
   "execution_count": 8,
   "metadata": {
    "id": "Za-LUrdXhEki"
   },
   "outputs": [],
   "source": [
    "#--------------------------------------------\n",
    "#----  intervalo de tiempo  -----------------\n",
    "#--------------------------------------------\n",
    "et_i=spy.str2et(\"1921-12-21 04:00:00 UTC-5\")\n",
    "et_f=spy.str2et(\"2021-12-21 04:00:00 UTC-5\")\n",
    "\n",
    "time=np.linspace(et_i,et_f,100)"
   ]
  },
  {
   "cell_type": "code",
   "execution_count": 9,
   "metadata": {
    "id": "vZxAnTh4Bj2V"
   },
   "outputs": [],
   "source": [
    "Estados2=dict()\n",
    "Total=dict()\n",
    "K_T=0\n",
    "p=0\n",
    "\n",
    "for e_t in time:\n",
    "  for i in range(0,9):\n",
    "    estado_i,tf_i=spy.spkezr(id_list[i],e_t,\"ECLIPJ2000\",\"None\",'SSB')\n",
    "\n",
    "    r_i=estado_i[0:3] #km \n",
    "    v_i=estado_i[3:6] #km/sec. \n",
    "\n",
    "\n",
    "    Estados2['r_%d' % i]= r_i\n",
    "    Estados2['v%d' % i]= v_i\n",
    "\n",
    "\n",
    "    GM=spy.bodvrd(id_list[i],\"GM\",1)[1][0]\n",
    "    M_i=GM/G\n",
    "    Estados2['M%d' % i]= M_i\n",
    "    \n",
    "    #----------------------------------\n",
    "    #--- Energía cinetica -------------\n",
    "    #----------------------------------\n",
    "    K_i=M_i*spy.vnorm(v_i)**2/2  #kg(km/s)**2\n",
    "    K_T=K_T+K_i  \n",
    "    Total[f'K{p}']= K_T\n",
    "  K_T=0\n",
    "  K_i=0\n",
    "  \n",
    "  #-------------------------------------\n",
    "  #--- Energía potencial gravitacional -\n",
    "  #-------------------------------------\n",
    "  b = [0,1,2,3,4,5,6,7,8]\n",
    "  e = itertools.combinations(b,2)\n",
    "  U_T=0\n",
    "  for i,j in e:\n",
    "    U_k=-G*Estados2.get('M%d' %i)*Estados2.get('M%d' %j) / spy.vnorm(Estados2.get('r_%d' %i)-Estados2.get('r_%d' %j) ) # (km**2)kg/(s**2)\n",
    "    U_T= U_T + U_k\n",
    "    Total[f'U{p}']= U_T\n",
    "  p=p+1\n"
   ]
  },
  {
   "cell_type": "code",
   "execution_count": 10,
   "metadata": {
    "id": "zocFzvUJBrn6"
   },
   "outputs": [],
   "source": [
    "K_T = np.array([(value) for key, value in Total.items() if key.startswith(\"K\")])\n",
    "U_T = np.array([(value) for key, value in Total.items() if key.startswith(\"U\")])"
   ]
  },
  {
   "cell_type": "code",
   "execution_count": 11,
   "metadata": {
    "id": "hzQ-vP8aB34t"
   },
   "outputs": [],
   "source": [
    "#-------------------------------------\n",
    "#--- Energía total por 100 años. -----\n",
    "#-------------------------------------\n",
    "E_T=K_T+U_T"
   ]
  },
  {
   "cell_type": "code",
   "execution_count": 12,
   "metadata": {
    "id": "hjVdvU2bH-Tk"
   },
   "outputs": [],
   "source": [
    "Time=np.linspace(0,100*365.25*86400,100)"
   ]
  },
  {
   "cell_type": "markdown",
   "metadata": {
    "id": "lJ_yW9ZjxZAs"
   },
   "source": [
    "### Gráfico de la energía como función del tiempo"
   ]
  },
  {
   "cell_type": "code",
   "execution_count": 13,
   "metadata": {
    "colab": {
     "base_uri": "https://localhost:8080/",
     "height": 299
    },
    "executionInfo": {
     "elapsed": 1025,
     "status": "ok",
     "timestamp": 1645568423536,
     "user": {
      "displayName": "DANIEL HERALDO CERTUCHE GRUESO",
      "photoUrl": "https://lh3.googleusercontent.com/a/default-user=s64",
      "userId": "04319517319660053282"
     },
     "user_tz": 300
    },
    "id": "qwg1ePGwxYvO",
    "outputId": "cd4ce5f8-0e76-40f8-ccf8-abe509fcc9d6"
   },
   "outputs": [
    {
     "data": {
      "image/png": "[encoded data removed]",
      "text/plain": [
       "<Figure size 432x288 with 1 Axes>"
      ]
     },
     "metadata": {
      "needs_background": "light"
     },
     "output_type": "display_data"
    }
   ],
   "source": [
    "plt.title('Energía vs Tiempo')\n",
    "plt.plot(Time,E_T*1000000,'r:',label=\"$E$\")\n",
    "plt.plot(Time,U_T*1000000,'g:',label=\"$U$\")\n",
    "plt.plot(Time,K_T*1000000,'b:',label=\"$K$\")\n",
    "plt.xlabel(\"$t$ (segundos)\");\n",
    "plt.ylabel(\"(Joules)\");\n",
    "plt.legend();"
   ]
  },
  {
   "cell_type": "code",
   "execution_count": 14,
   "metadata": {
    "colab": {
     "base_uri": "https://localhost:8080/",
     "height": 299
    },
    "executionInfo": {
     "elapsed": 529,
     "status": "ok",
     "timestamp": 1645568424021,
     "user": {
      "displayName": "DANIEL HERALDO CERTUCHE GRUESO",
      "photoUrl": "https://lh3.googleusercontent.com/a/default-user=s64",
      "userId": "04319517319660053282"
     },
     "user_tz": 300
    },
    "id": "T5-SORetxYk4",
    "outputId": "101ec7d9-8ce9-490d-ac11-763af49018dc"
   },
   "outputs": [
    {
     "data": {
      "image/png": "[encoded data removed]",
      "text/plain": [
       "<Figure size 432x288 with 1 Axes>"
      ]
     },
     "metadata": {
      "needs_background": "light"
     },
     "output_type": "display_data"
    }
   ],
   "source": [
    "plt.title('Energía vs Tiempo')\n",
    "plt.plot(Time,abs(E_T*1000000),'r:',label=\"$abs(E)$\")\n",
    "plt.plot(Time,abs(U_T*1000000),'g:',label=\"$abs(U)$\")\n",
    "plt.plot(Time,K_T*1000000,'b:',label=\"$K$\")\n",
    "plt.xlabel(\"$t$ (segundos)\");\n",
    "plt.ylabel(\"(Joules)\");\n",
    "plt.ylim(0,4.6*1e35)\n",
    "plt.legend();"
   ]
  },
  {
   "cell_type": "markdown",
   "metadata": {
    "id": "SjTRok6bvOei"
   },
   "source": [
    "La gráfica confirma la teoría, E es constante. Incluso también confirma el teorema del virial, puesto que el valor absoluto de la energía total E es aproximadamente igual a la energía cinética promedio K. "
   ]
  },
  {
   "cell_type": "markdown",
   "metadata": {
    "id": "4wgN7XRuxZ9v"
   },
   "source": [
    "## Punto 3\n",
    "\n",
    "Calcule usando exclusivamente SPICE el momentum angular total del sistema solar en la fecha del punto 1.  Recuerde que este vector define la normal al plano invariable de Laplace del sistema solar.  Repita el cálculo 100 años después y calcule el ángulo en el que el vector cambio. \n",
    "\n",
    "Ayuda: el ángulo entre dos vectores se calcula usando la propiedad del producto punto A⋅ B = A B cos θ."
   ]
  },
  {
   "cell_type": "code",
   "execution_count": 15,
   "metadata": {
    "colab": {
     "base_uri": "https://localhost:8080/"
    },
    "executionInfo": {
     "elapsed": 31,
     "status": "ok",
     "timestamp": 1645568424026,
     "user": {
      "displayName": "DANIEL HERALDO CERTUCHE GRUESO",
      "photoUrl": "https://lh3.googleusercontent.com/a/default-user=s64",
      "userId": "04319517319660053282"
     },
     "user_tz": 300
    },
    "id": "CjQ9q3qTxiUW",
    "outputId": "b6d001e4-2b34-4bf5-9c5b-c4bb6703a8ef"
   },
   "outputs": [
    {
     "data": {
      "text/plain": [
       "array([8.23129786e+35, 2.60833345e+35, 3.13336875e+37])"
      ]
     },
     "execution_count": 15,
     "metadata": {},
     "output_type": "execute_result"
    }
   ],
   "source": [
    "#--------------------------------------------------------------------------\n",
    "#--- Momento angular para la fecha: \"2021-12-21 04:00:00 UTC-5\"\n",
    "#--------------------------------------------------------------------------\n",
    "\n",
    "L0=0\n",
    "for i in range(9):\n",
    "  L0+=Estados.get('M%d' %i)*spy.vcrss(Estados.get('r_%d' %i),Estados.get('v%d' %i))\n",
    "L0"
   ]
  },
  {
   "cell_type": "code",
   "execution_count": 16,
   "metadata": {
    "colab": {
     "base_uri": "https://localhost:8080/"
    },
    "executionInfo": {
     "elapsed": 29,
     "status": "ok",
     "timestamp": 1645568424028,
     "user": {
      "displayName": "DANIEL HERALDO CERTUCHE GRUESO",
      "photoUrl": "https://lh3.googleusercontent.com/a/default-user=s64",
      "userId": "04319517319660053282"
     },
     "user_tz": 300
    },
    "id": "kmiM4xklxje_",
    "outputId": "31275363-cb1b-4e00-bc1b-3af2919da4f7"
   },
   "outputs": [
    {
     "data": {
      "text/plain": [
       "0.027550199755119062"
      ]
     },
     "execution_count": 16,
     "metadata": {},
     "output_type": "execute_result"
    }
   ],
   "source": [
    "#--------------------------------------------------------------------------\n",
    "#--- Inclinación del plano invariable del Sistema Solar\n",
    "#--------------------------------------------------------------------------\n",
    "\n",
    "i=np.arccos(L0[2]/spy.vnorm(L0))  #radians ---> i = 1.75 grados \n",
    "i"
   ]
  },
  {
   "cell_type": "code",
   "execution_count": 17,
   "metadata": {
    "id": "62plJp9yVK39"
   },
   "outputs": [],
   "source": [
    "et3=spy.str2et(\"2121-12-21 04:00:00 UTC-5\")\n",
    "#--------------------------------------------\n",
    "#----  Lista de los objetos de interés  -----\n",
    "#--------------------------------------------\n",
    "id_list=[\n",
    "    'Mercury Barycenter',\n",
    "    'Venus Barycenter',\n",
    "    'Earth-Moon Barycenter',\n",
    "    'Mars Barycenter',\n",
    "    'Jupiter Barycenter',\n",
    "    'Saturn Barycenter',\n",
    "    'Uranus Barycenter',\n",
    "    'Neptune Barycenter',\n",
    "    'Sun']\n",
    "\n",
    "Estados3=dict()\n",
    "K_T=0\n",
    "for i in range(0,9):\n",
    "\n",
    "  estado_i,tf_i=spy.spkezr(id_list[i],et3,\"ECLIPJ2000\",\"None\",'SSB')\n",
    "\n",
    "  r_i=estado_i[0:3] #km \n",
    "  v_i=estado_i[3:6] #km/sec. \n",
    "\n",
    "\n",
    "  Estados3['r_%d' % i]= r_i\n",
    "  Estados3['v%d' % i]= v_i\n",
    "\n",
    "\n",
    "  GM=spy.bodvrd(id_list[i],\"GM\",1)[1][0]\n",
    "  M_i=GM/G\n",
    "  Estados3['M%d' % i]= M_i"
   ]
  },
  {
   "cell_type": "code",
   "execution_count": 18,
   "metadata": {
    "colab": {
     "base_uri": "https://localhost:8080/"
    },
    "executionInfo": {
     "elapsed": 11,
     "status": "ok",
     "timestamp": 1642455657437,
     "user": {
      "displayName": "JORGE IVAN ZULUAGA CALLEJAS",
      "photoUrl": "https://lh3.googleusercontent.com/a-/AOh14Ggm7uk3edKdK2CnwxfijMwlhDEmZLw-8-mAViw-qeKAMX_3bnNFF55Vtzl1r0DeAn9hw9iRP1gLxQoZNjT0jtIzqWMhB0955wW_Po5wJIpumyxXP2XsIItAU4vhOj063BeTejNZUvlLNdYhqwEz0h2CU59Cl_qpY1juvGLk4DlqWyuR3EmSkwpG4IM3GRMNWttcoQoeo-zvxAjHxKutGCWuffrJyVjkwJT3jdmCeHjkfmyFtTCDfkyJTmnZBnqk-OSTRLfLRzD7JXJU9jk10uuALA1LPjlA8LUSxpANsii2nFI66ELfDrBO4g6PRS5Mt0TwnVCr6QE_DhZesfc-Q7XXj6oe6Vd2zQ0VI4UlW0cTTfhGkCQ1FgX2mWH8O1OwvGfTbtDADcbSRSZhDITUSJi8rciZ7xh4Ja2mT56TYZi1TFtUDYgei5IS11BTmTJPtTUJvsQ8N3k-8kdotbnKYuEv4YBfuuhPe6piW8u2OLHBHwSlbykyTOsbHQgQSv__VKoI7lIE-g1I77lPxgkFYZL4E8wxlHD5kfMxWiVDRQvr2QV4RcU7KyFJkGuJ6l5tpb3EfICYcIn6b6dXZDnvEyz9AfFvQZERicK9DegXbTBzX4R9rG1sdmwxqXRs_NyeKyurwpDcU_bHRMesflvSvqyhjw3D3KPg1n1Ir6NcsPKbad9GF3VFgE8N-34nEr2__SVpy7_JRc6L_f5mjDofnMDWDNRSosWiHV7yv1Rx9Z2dzBftuTlfIKQSCZPFaYs1ju09vxA=s64",
      "userId": "14268130563590845195"
     },
     "user_tz": 300
    },
    "id": "NxrnmDFCxhv2",
    "outputId": "abb4441a-558d-4e52-8f6c-ea7de2b5e8e7"
   },
   "outputs": [
    {
     "data": {
      "text/plain": [
       "array([8.23129781e+35, 2.60833393e+35, 3.13336874e+37])"
      ]
     },
     "execution_count": 18,
     "metadata": {},
     "output_type": "execute_result"
    }
   ],
   "source": [
    "#--------------------------------------------------------------------------\n",
    "#--- Momento angular para la fecha: \"2121-12-21 04:00:00 UTC-5\"\n",
    "#--------------------------------------------------------------------------\n",
    "L=0\n",
    "for i in range(9):\n",
    "  L+=Estados3.get('M%d' %i)*spy.vcrss(Estados3.get('r_%d' %i),Estados3.get('v%d' %i))\n",
    "L"
   ]
  },
  {
   "cell_type": "code",
   "execution_count": 19,
   "metadata": {
    "colab": {
     "base_uri": "https://localhost:8080/"
    },
    "executionInfo": {
     "elapsed": 11,
     "status": "ok",
     "timestamp": 1642455657437,
     "user": {
      "displayName": "JORGE IVAN ZULUAGA CALLEJAS",
      "photoUrl": "https://lh3.googleusercontent.com/a-/AOh14Ggm7uk3edKdK2CnwxfijMwlhDEmZLw-8-mAViw-qeKAMX_3bnNFF55Vtzl1r0DeAn9hw9iRP1gLxQoZNjT0jtIzqWMhB0955wW_Po5wJIpumyxXP2XsIItAU4vhOj063BeTejNZUvlLNdYhqwEz0h2CU59Cl_qpY1juvGLk4DlqWyuR3EmSkwpG4IM3GRMNWttcoQoeo-zvxAjHxKutGCWuffrJyVjkwJT3jdmCeHjkfmyFtTCDfkyJTmnZBnqk-OSTRLfLRzD7JXJU9jk10uuALA1LPjlA8LUSxpANsii2nFI66ELfDrBO4g6PRS5Mt0TwnVCr6QE_DhZesfc-Q7XXj6oe6Vd2zQ0VI4UlW0cTTfhGkCQ1FgX2mWH8O1OwvGfTbtDADcbSRSZhDITUSJi8rciZ7xh4Ja2mT56TYZi1TFtUDYgei5IS11BTmTJPtTUJvsQ8N3k-8kdotbnKYuEv4YBfuuhPe6piW8u2OLHBHwSlbykyTOsbHQgQSv__VKoI7lIE-g1I77lPxgkFYZL4E8wxlHD5kfMxWiVDRQvr2QV4RcU7KyFJkGuJ6l5tpb3EfICYcIn6b6dXZDnvEyz9AfFvQZERicK9DegXbTBzX4R9rG1sdmwxqXRs_NyeKyurwpDcU_bHRMesflvSvqyhjw3D3KPg1n1Ir6NcsPKbad9GF3VFgE8N-34nEr2__SVpy7_JRc6L_f5mjDofnMDWDNRSosWiHV7yv1Rx9Z2dzBftuTlfIKQSCZPFaYs1ju09vxA=s64",
      "userId": "14268130563590845195"
     },
     "user_tz": 300
    },
    "id": "pwNYfGf6Whsw",
    "outputId": "00aef9d0-f40d-4a70-81a7-fbe9979b709a"
   },
   "outputs": [
    {
     "data": {
      "text/plain": [
       "2.1073424255447017e-08"
      ]
     },
     "execution_count": 19,
     "metadata": {},
     "output_type": "execute_result"
    }
   ],
   "source": [
    "#-------------------------------------\n",
    "#--- Agulo entre los dos vectores ----\n",
    "#-------------------------------------\n",
    "θ= np.arccos(spy.vdot(L0,L)/(spy.vnorm(L)*spy.vnorm(L0)))  #radianes \n",
    "θ"
   ]
  },
  {
   "cell_type": "code",
   "execution_count": 20,
   "metadata": {
    "colab": {
     "base_uri": "https://localhost:8080/"
    },
    "executionInfo": {
     "elapsed": 11,
     "status": "ok",
     "timestamp": 1642455657438,
     "user": {
      "displayName": "JORGE IVAN ZULUAGA CALLEJAS",
      "photoUrl": "https://lh3.googleusercontent.com/a-/AOh14Ggm7uk3edKdK2CnwxfijMwlhDEmZLw-8-mAViw-qeKAMX_3bnNFF55Vtzl1r0DeAn9hw9iRP1gLxQoZNjT0jtIzqWMhB0955wW_Po5wJIpumyxXP2XsIItAU4vhOj063BeTejNZUvlLNdYhqwEz0h2CU59Cl_qpY1juvGLk4DlqWyuR3EmSkwpG4IM3GRMNWttcoQoeo-zvxAjHxKutGCWuffrJyVjkwJT3jdmCeHjkfmyFtTCDfkyJTmnZBnqk-OSTRLfLRzD7JXJU9jk10uuALA1LPjlA8LUSxpANsii2nFI66ELfDrBO4g6PRS5Mt0TwnVCr6QE_DhZesfc-Q7XXj6oe6Vd2zQ0VI4UlW0cTTfhGkCQ1FgX2mWH8O1OwvGfTbtDADcbSRSZhDITUSJi8rciZ7xh4Ja2mT56TYZi1TFtUDYgei5IS11BTmTJPtTUJvsQ8N3k-8kdotbnKYuEv4YBfuuhPe6piW8u2OLHBHwSlbykyTOsbHQgQSv__VKoI7lIE-g1I77lPxgkFYZL4E8wxlHD5kfMxWiVDRQvr2QV4RcU7KyFJkGuJ6l5tpb3EfICYcIn6b6dXZDnvEyz9AfFvQZERicK9DegXbTBzX4R9rG1sdmwxqXRs_NyeKyurwpDcU_bHRMesflvSvqyhjw3D3KPg1n1Ir6NcsPKbad9GF3VFgE8N-34nEr2__SVpy7_JRc6L_f5mjDofnMDWDNRSosWiHV7yv1Rx9Z2dzBftuTlfIKQSCZPFaYs1ju09vxA=s64",
      "userId": "14268130563590845195"
     },
     "user_tz": 300
    },
    "id": "O0z-JZhJWhaQ",
    "outputId": "de19fc70-def2-42c3-fd5d-200a7e1fde92"
   },
   "outputs": [
    {
     "data": {
      "text/plain": [
       "1.2074182697257333e-06"
      ]
     },
     "execution_count": 20,
     "metadata": {},
     "output_type": "execute_result"
    }
   ],
   "source": [
    "#-------------------------------------\n",
    "#--- Grados  -------------------------\n",
    "#-------------------------------------\n",
    "θ*180/np.pi"
   ]
  },
  {
   "cell_type": "markdown",
   "metadata": {
    "id": "8PpEPu6ww7Md"
   },
   "source": [
    "El valor angular que cambio el plano del sistema solar después de 100 años es bastante pequeño, igual 1.2074182697257333e-06 grados."
   ]
  },
  {
   "cell_type": "markdown",
   "metadata": {
    "id": "ObqLUJh4xkEP"
   },
   "source": [
    "## Punto 4\n",
    "\n",
    "Encuentre la inclinación del plano orbital de la Tierra respecto al plano invariable de Laplace del sistema solar calculado en 4 en la fecha inicial.\n",
    "\n",
    "Ayuda: el ángulo entre el plano de la órbita de la Tierra y el plano invariable de Laplace es igual al ángulo entre el vector momentum angular de la Tierra y el vector momentum angular total del sistema solar."
   ]
  },
  {
   "cell_type": "code",
   "execution_count": 21,
   "metadata": {
    "id": "JkVGoBTEx3El"
   },
   "outputs": [],
   "source": [
    "def ang_momento(id_list,et3):\n",
    "\n",
    "  Estados3=dict()\n",
    "  K_T=0\n",
    "  for i in range(len(id_list)):\n",
    "\n",
    "    estado_i,tf_i=spy.spkezr(id_list[i],et3,\"ECLIPJ2000\",\"None\",'SSB')\n",
    "\n",
    "    r_i=estado_i[0:3] #km \n",
    "    v_i=estado_i[3:6] #km/sec. \n",
    "\n",
    "\n",
    "    Estados3['r_%d' % i]= r_i\n",
    "    Estados3['v%d' % i]= v_i\n",
    "\n",
    "\n",
    "    GM=spy.bodvrd(id_list[i],\"GM\",1)[1][0]\n",
    "    M_i=GM/G\n",
    "    Estados3['M%d' % i]= M_i\n",
    "  #--------------------------------------------------------------------------\n",
    "  #--- Momento angular para la fecha: \"2121-12-21 04:00:00 UTC-5\" -----------\n",
    "  #--------------------------------------------------------------------------\n",
    "  L=0\n",
    "  for i in range(len(id_list)):\n",
    "    L+=Estados3.get('M%d' %i)*spy.vcrss(Estados3.get('r_%d' %i),Estados3.get('v%d' %i))\n",
    "  return L"
   ]
  },
  {
   "cell_type": "code",
   "execution_count": 22,
   "metadata": {
    "colab": {
     "base_uri": "https://localhost:8080/"
    },
    "executionInfo": {
     "elapsed": 10,
     "status": "ok",
     "timestamp": 1642455657438,
     "user": {
      "displayName": "JORGE IVAN ZULUAGA CALLEJAS",
      "photoUrl": "https://lh3.googleusercontent.com/a-/AOh14Ggm7uk3edKdK2CnwxfijMwlhDEmZLw-8-mAViw-qeKAMX_3bnNFF55Vtzl1r0DeAn9hw9iRP1gLxQoZNjT0jtIzqWMhB0955wW_Po5wJIpumyxXP2XsIItAU4vhOj063BeTejNZUvlLNdYhqwEz0h2CU59Cl_qpY1juvGLk4DlqWyuR3EmSkwpG4IM3GRMNWttcoQoeo-zvxAjHxKutGCWuffrJyVjkwJT3jdmCeHjkfmyFtTCDfkyJTmnZBnqk-OSTRLfLRzD7JXJU9jk10uuALA1LPjlA8LUSxpANsii2nFI66ELfDrBO4g6PRS5Mt0TwnVCr6QE_DhZesfc-Q7XXj6oe6Vd2zQ0VI4UlW0cTTfhGkCQ1FgX2mWH8O1OwvGfTbtDADcbSRSZhDITUSJi8rciZ7xh4Ja2mT56TYZi1TFtUDYgei5IS11BTmTJPtTUJvsQ8N3k-8kdotbnKYuEv4YBfuuhPe6piW8u2OLHBHwSlbykyTOsbHQgQSv__VKoI7lIE-g1I77lPxgkFYZL4E8wxlHD5kfMxWiVDRQvr2QV4RcU7KyFJkGuJ6l5tpb3EfICYcIn6b6dXZDnvEyz9AfFvQZERicK9DegXbTBzX4R9rG1sdmwxqXRs_NyeKyurwpDcU_bHRMesflvSvqyhjw3D3KPg1n1Ir6NcsPKbad9GF3VFgE8N-34nEr2__SVpy7_JRc6L_f5mjDofnMDWDNRSosWiHV7yv1Rx9Z2dzBftuTlfIKQSCZPFaYs1ju09vxA=s64",
      "userId": "14268130563590845195"
     },
     "user_tz": 300
    },
    "id": "ZCCJ0Bqxx22R",
    "outputId": "4f64d77e-0bac-465b-b675-eeb84379c7d6"
   },
   "outputs": [
    {
     "data": {
      "text/plain": [
       "array([1.00584599e+33, 3.40566875e+32, 7.02642224e+34])"
      ]
     },
     "execution_count": 22,
     "metadata": {},
     "output_type": "execute_result"
    }
   ],
   "source": [
    "#-------------------------------------\n",
    "#--- Momento angular de la tierra ----\n",
    "#-------------------------------------\n",
    "id_list=['Sun', 'Earth-Moon Barycenter']\n",
    "L1=ang_momento(id_list,et )\n",
    "L1"
   ]
  },
  {
   "cell_type": "code",
   "execution_count": 23,
   "metadata": {
    "colab": {
     "base_uri": "https://localhost:8080/"
    },
    "executionInfo": {
     "elapsed": 10,
     "status": "ok",
     "timestamp": 1642455657438,
     "user": {
      "displayName": "JORGE IVAN ZULUAGA CALLEJAS",
      "photoUrl": "https://lh3.googleusercontent.com/a-/AOh14Ggm7uk3edKdK2CnwxfijMwlhDEmZLw-8-mAViw-qeKAMX_3bnNFF55Vtzl1r0DeAn9hw9iRP1gLxQoZNjT0jtIzqWMhB0955wW_Po5wJIpumyxXP2XsIItAU4vhOj063BeTejNZUvlLNdYhqwEz0h2CU59Cl_qpY1juvGLk4DlqWyuR3EmSkwpG4IM3GRMNWttcoQoeo-zvxAjHxKutGCWuffrJyVjkwJT3jdmCeHjkfmyFtTCDfkyJTmnZBnqk-OSTRLfLRzD7JXJU9jk10uuALA1LPjlA8LUSxpANsii2nFI66ELfDrBO4g6PRS5Mt0TwnVCr6QE_DhZesfc-Q7XXj6oe6Vd2zQ0VI4UlW0cTTfhGkCQ1FgX2mWH8O1OwvGfTbtDADcbSRSZhDITUSJi8rciZ7xh4Ja2mT56TYZi1TFtUDYgei5IS11BTmTJPtTUJvsQ8N3k-8kdotbnKYuEv4YBfuuhPe6piW8u2OLHBHwSlbykyTOsbHQgQSv__VKoI7lIE-g1I77lPxgkFYZL4E8wxlHD5kfMxWiVDRQvr2QV4RcU7KyFJkGuJ6l5tpb3EfICYcIn6b6dXZDnvEyz9AfFvQZERicK9DegXbTBzX4R9rG1sdmwxqXRs_NyeKyurwpDcU_bHRMesflvSvqyhjw3D3KPg1n1Ir6NcsPKbad9GF3VFgE8N-34nEr2__SVpy7_JRc6L_f5mjDofnMDWDNRSosWiHV7yv1Rx9Z2dzBftuTlfIKQSCZPFaYs1ju09vxA=s64",
      "userId": "14268130563590845195"
     },
     "user_tz": 300
    },
    "id": "RbtCyXrex2y_",
    "outputId": "64c6eff1-0fcb-46dd-f375-dea64e9752de"
   },
   "outputs": [
    {
     "data": {
      "text/plain": [
       "0.713005033744079"
      ]
     },
     "execution_count": 23,
     "metadata": {},
     "output_type": "execute_result"
    }
   ],
   "source": [
    "#-------------------------------------\n",
    "#--- Agulo entre los dos vectores ----\n",
    "#-------------------------------------\n",
    "θ= np.arccos(spy.vdot(L0,L1)/(spy.vnorm(L1)*spy.vnorm(L0)))  #radianes \n",
    "#grados\n",
    "θ*180/np.pi\n"
   ]
  },
  {
   "cell_type": "markdown",
   "metadata": {
    "id": "DHDOA-g3xioa"
   },
   "source": [
    "La inclinación del plano orbital de la Tierra respecto al plano invariable de Laplace del sistema solar es 0.713005033744079 grados"
   ]
  },
  {
   "cell_type": "markdown",
   "metadata": {
    "id": "eb5h3V9Ax4Cb"
   },
   "source": [
    "## Punto 5\n",
    "\n",
    "Repetir lo anterior con todos los planetas del sistema solar ¿cuál es el planeta que presenta la mayor inclinación? ¿cuál es el planeta que presenta la menor inclinación?"
   ]
  },
  {
   "cell_type": "code",
   "execution_count": 24,
   "metadata": {
    "id": "wCBeqx5oyH1k"
   },
   "outputs": [],
   "source": [
    "planetas_list=[\n",
    "    'Mercury Barycenter',\n",
    "    'Venus Barycenter',\n",
    "    'Earth-Moon Barycenter',\n",
    "    'Mars Barycenter',\n",
    "    'Jupiter Barycenter',\n",
    "    'Saturn Barycenter',\n",
    "    'Uranus Barycenter',\n",
    "    'Neptune Barycenter',]"
   ]
  },
  {
   "cell_type": "code",
   "execution_count": 25,
   "metadata": {
    "colab": {
     "base_uri": "https://localhost:8080/"
    },
    "executionInfo": {
     "elapsed": 10,
     "status": "ok",
     "timestamp": 1642455657439,
     "user": {
      "displayName": "JORGE IVAN ZULUAGA CALLEJAS",
      "photoUrl": "https://lh3.googleusercontent.com/a-/AOh14Ggm7uk3edKdK2CnwxfijMwlhDEmZLw-8-mAViw-qeKAMX_3bnNFF55Vtzl1r0DeAn9hw9iRP1gLxQoZNjT0jtIzqWMhB0955wW_Po5wJIpumyxXP2XsIItAU4vhOj063BeTejNZUvlLNdYhqwEz0h2CU59Cl_qpY1juvGLk4DlqWyuR3EmSkwpG4IM3GRMNWttcoQoeo-zvxAjHxKutGCWuffrJyVjkwJT3jdmCeHjkfmyFtTCDfkyJTmnZBnqk-OSTRLfLRzD7JXJU9jk10uuALA1LPjlA8LUSxpANsii2nFI66ELfDrBO4g6PRS5Mt0TwnVCr6QE_DhZesfc-Q7XXj6oe6Vd2zQ0VI4UlW0cTTfhGkCQ1FgX2mWH8O1OwvGfTbtDADcbSRSZhDITUSJi8rciZ7xh4Ja2mT56TYZi1TFtUDYgei5IS11BTmTJPtTUJvsQ8N3k-8kdotbnKYuEv4YBfuuhPe6piW8u2OLHBHwSlbykyTOsbHQgQSv__VKoI7lIE-g1I77lPxgkFYZL4E8wxlHD5kfMxWiVDRQvr2QV4RcU7KyFJkGuJ6l5tpb3EfICYcIn6b6dXZDnvEyz9AfFvQZERicK9DegXbTBzX4R9rG1sdmwxqXRs_NyeKyurwpDcU_bHRMesflvSvqyhjw3D3KPg1n1Ir6NcsPKbad9GF3VFgE8N-34nEr2__SVpy7_JRc6L_f5mjDofnMDWDNRSosWiHV7yv1Rx9Z2dzBftuTlfIKQSCZPFaYs1ju09vxA=s64",
      "userId": "14268130563590845195"
     },
     "user_tz": 300
    },
    "id": "v4PUCQO9yHsv",
    "outputId": "0670b8e4-3264-46ce-f444-9ec9f0072043"
   },
   "outputs": [
    {
     "data": {
      "text/plain": [
       "array([0.15454242, 0.56936584, 0.71300503, 0.22142907, 0.3266505 ,\n",
       "       0.92685898, 1.00605011, 0.71455993])"
      ]
     },
     "execution_count": 25,
     "metadata": {},
     "output_type": "execute_result"
    }
   ],
   "source": [
    "Ang=dict()\n",
    "for i,c in enumerate(planetas_list):\n",
    "  id_list=[c,'Sun']\n",
    "  Ang[f'L{i+1}']=ang_momento(id_list,et)\n",
    "  θ= np.arccos(spy.vdot(L0,Ang.get(f'L{i+1}'))/(spy.vnorm(Ang.get(f'L{i+1}'))*spy.vnorm(L0)))  #radianes \n",
    "  Ang[f'A{i+1}']= θ*180/np.pi\n",
    "\n",
    "Angulos = np.array([(value) for key, value in Ang.items() if key.startswith(\"A\")])\n",
    "Angulos"
   ]
  },
  {
   "cell_type": "code",
   "execution_count": 26,
   "metadata": {
    "colab": {
     "base_uri": "https://localhost:8080/"
    },
    "executionInfo": {
     "elapsed": 10,
     "status": "ok",
     "timestamp": 1642455657439,
     "user": {
      "displayName": "JORGE IVAN ZULUAGA CALLEJAS",
      "photoUrl": "https://lh3.googleusercontent.com/a-/AOh14Ggm7uk3edKdK2CnwxfijMwlhDEmZLw-8-mAViw-qeKAMX_3bnNFF55Vtzl1r0DeAn9hw9iRP1gLxQoZNjT0jtIzqWMhB0955wW_Po5wJIpumyxXP2XsIItAU4vhOj063BeTejNZUvlLNdYhqwEz0h2CU59Cl_qpY1juvGLk4DlqWyuR3EmSkwpG4IM3GRMNWttcoQoeo-zvxAjHxKutGCWuffrJyVjkwJT3jdmCeHjkfmyFtTCDfkyJTmnZBnqk-OSTRLfLRzD7JXJU9jk10uuALA1LPjlA8LUSxpANsii2nFI66ELfDrBO4g6PRS5Mt0TwnVCr6QE_DhZesfc-Q7XXj6oe6Vd2zQ0VI4UlW0cTTfhGkCQ1FgX2mWH8O1OwvGfTbtDADcbSRSZhDITUSJi8rciZ7xh4Ja2mT56TYZi1TFtUDYgei5IS11BTmTJPtTUJvsQ8N3k-8kdotbnKYuEv4YBfuuhPe6piW8u2OLHBHwSlbykyTOsbHQgQSv__VKoI7lIE-g1I77lPxgkFYZL4E8wxlHD5kfMxWiVDRQvr2QV4RcU7KyFJkGuJ6l5tpb3EfICYcIn6b6dXZDnvEyz9AfFvQZERicK9DegXbTBzX4R9rG1sdmwxqXRs_NyeKyurwpDcU_bHRMesflvSvqyhjw3D3KPg1n1Ir6NcsPKbad9GF3VFgE8N-34nEr2__SVpy7_JRc6L_f5mjDofnMDWDNRSosWiHV7yv1Rx9Z2dzBftuTlfIKQSCZPFaYs1ju09vxA=s64",
      "userId": "14268130563590845195"
     },
     "user_tz": 300
    },
    "id": "nfuqTUR7yHl3",
    "outputId": "64428acf-b9e2-475c-96ae-86e8263966d9"
   },
   "outputs": [
    {
     "data": {
      "text/plain": [
       "0.1545424216975557"
      ]
     },
     "execution_count": 26,
     "metadata": {},
     "output_type": "execute_result"
    }
   ],
   "source": [
    "#-------------------------------------------------------------------------\n",
    "#--- Valor mínimo en grados corresponde a Mercury Barycenter -------------\n",
    "#-------------------------------------------------------------------------\n",
    "np.min(Angulos)"
   ]
  },
  {
   "cell_type": "code",
   "execution_count": 27,
   "metadata": {
    "colab": {
     "base_uri": "https://localhost:8080/"
    },
    "executionInfo": {
     "elapsed": 9,
     "status": "ok",
     "timestamp": 1642455657439,
     "user": {
      "displayName": "JORGE IVAN ZULUAGA CALLEJAS",
      "photoUrl": "https://lh3.googleusercontent.com/a-/AOh14Ggm7uk3edKdK2CnwxfijMwlhDEmZLw-8-mAViw-qeKAMX_3bnNFF55Vtzl1r0DeAn9hw9iRP1gLxQoZNjT0jtIzqWMhB0955wW_Po5wJIpumyxXP2XsIItAU4vhOj063BeTejNZUvlLNdYhqwEz0h2CU59Cl_qpY1juvGLk4DlqWyuR3EmSkwpG4IM3GRMNWttcoQoeo-zvxAjHxKutGCWuffrJyVjkwJT3jdmCeHjkfmyFtTCDfkyJTmnZBnqk-OSTRLfLRzD7JXJU9jk10uuALA1LPjlA8LUSxpANsii2nFI66ELfDrBO4g6PRS5Mt0TwnVCr6QE_DhZesfc-Q7XXj6oe6Vd2zQ0VI4UlW0cTTfhGkCQ1FgX2mWH8O1OwvGfTbtDADcbSRSZhDITUSJi8rciZ7xh4Ja2mT56TYZi1TFtUDYgei5IS11BTmTJPtTUJvsQ8N3k-8kdotbnKYuEv4YBfuuhPe6piW8u2OLHBHwSlbykyTOsbHQgQSv__VKoI7lIE-g1I77lPxgkFYZL4E8wxlHD5kfMxWiVDRQvr2QV4RcU7KyFJkGuJ6l5tpb3EfICYcIn6b6dXZDnvEyz9AfFvQZERicK9DegXbTBzX4R9rG1sdmwxqXRs_NyeKyurwpDcU_bHRMesflvSvqyhjw3D3KPg1n1Ir6NcsPKbad9GF3VFgE8N-34nEr2__SVpy7_JRc6L_f5mjDofnMDWDNRSosWiHV7yv1Rx9Z2dzBftuTlfIKQSCZPFaYs1ju09vxA=s64",
      "userId": "14268130563590845195"
     },
     "user_tz": 300
    },
    "id": "BWOGMl5GyHjR",
    "outputId": "f5bfb405-3455-405e-f32d-32828dd25457"
   },
   "outputs": [
    {
     "data": {
      "text/plain": [
       "1.0060501070770358"
      ]
     },
     "execution_count": 27,
     "metadata": {},
     "output_type": "execute_result"
    }
   ],
   "source": [
    "#-------------------------------------------------------------------------\n",
    "#--- Valor máximo en grados corresponde a 'Uranus Barycenter' ------------\n",
    "#-------------------------------------------------------------------------\n",
    "np.max(Angulos)"
   ]
  },
  {
   "cell_type": "markdown",
   "metadata": {
    "id": "UcKFhWiVxwU8"
   },
   "source": [
    "El planeta con mayor inclinación es Urano, i=1.0060501070770358 grados. \n",
    "\n",
    "EL planeta con menor inclinación es Mercurio, i=0.1545424216975557 grados."
   ]
  },
  {
   "cell_type": "markdown",
   "metadata": {},
   "source": [
    "## **El virial del sistema solar**"
   ]
  },
  {
   "cell_type": "markdown",
   "metadata": {},
   "source": [
    "## Punto 6\n",
    "\n",
    "* Eligiendo una fecha inicial arbitraria, calcule las posiciones y velocidades del **Sol, Júpiter y Saturno** a lo largo de 100 años en intervalos de 1 mes.\n",
    "* Calcule la energía cinética (K), la energía potencial (U) y la energía total del sistema en todos los tiempos anteriores.\n"
   ]
  },
  {
   "cell_type": "code",
   "execution_count": 28,
   "metadata": {},
   "outputs": [],
   "source": [
    "#intervalo de tiempo\n",
    "et_i=spy.str2et(\"1921-12-21 04:00:00 UTC-5\")\n",
    "et_f=spy.str2et(\"2021-12-21 04:00:00 UTC-5\")\n",
    "\n",
    "time=np.linspace(et_i,et_f,1200)"
   ]
  },
  {
   "cell_type": "code",
   "execution_count": 29,
   "metadata": {},
   "outputs": [],
   "source": [
    "def energia_mecanica(id_list):\n",
    "    G=6.67e-20  # km^3 / kg s^2\n",
    "    Estados2=dict()\n",
    "    Total=dict()\n",
    "    K_T=0\n",
    "    F_T=0\n",
    "    p=0\n",
    "    for e_t in time:\n",
    "      for i in range(0,3):\n",
    "        estado_i,tf_i=spy.spkezr(id_list[i],e_t,\"ECLIPJ2000\",\"None\",'SSB')\n",
    "        r_i=estado_i[0:3] #km \n",
    "        v_i=estado_i[3:6] #km/sec. \n",
    "        Estados2['r_%d' % i]= r_i\n",
    "        Estados2['v%d' % i]= v_i\n",
    "        GM=spy.bodvrd(id_list[i],\"GM\",1)[1][0]\n",
    "        M_i=GM/G\n",
    "        Estados2['M%d' % i]= M_i\n",
    "        #Energía cinetica\n",
    "        K_i=M_i*spy.vnorm(v_i)**2/2  #kg(km/s)**2\n",
    "        Estados2['K%d' % i]= K_i\n",
    "        K_T=K_T+K_i  \n",
    "        Total[f'K{p}']= K_T\n",
    "      K_T=0\n",
    "      K_i=0\n",
    "      #Energía potencial gravitacional\n",
    "      b1 = list(range(0,len(id_list)))\n",
    "      e1 = itertools.combinations(b1,2)\n",
    "      U_T=0\n",
    "      for i,j in e1:\n",
    "        U_k=-G*Estados2.get('M%d' %i)*Estados2.get('M%d' %j) / spy.vnorm(Estados2.get('r_%d' %i)-Estados2.get('r_%d' %j) ) # (km**2)kg/(s**2)\n",
    "        U_T= U_T + U_k\n",
    "        Total[f'U{p}']= U_T\n",
    "      #Fuerza gravitacional\n",
    "      F_=0\n",
    "      b = list(range(0,len(id_list)))\n",
    "      e = itertools.combinations(b,2)\n",
    "      for i,j in e:\n",
    "        F_+=np.array((-G*Estados2.get('M%d' %i)*Estados2.get('M%d' %j)/ (spy.vnorm(Estados2.get('r_%d' %i)-Estados2.get('r_%d' %j) ))**3))  * np.array(Estados2.get('r_%d' %i)-Estados2.get('r_%d' %j))\n",
    "      Total[f'F{p}']=F_\n",
    "      p=p+1\n",
    "    #Fuerza gravitacional\n",
    "    F_=0\n",
    "    F=[]\n",
    "    v=0\n",
    "    b = list(range(0,len(id_list)))\n",
    "    e = itertools.combinations(b,2)\n",
    "    for i,j in e:\n",
    "      r=np.array(Estados2.get('r_%d' %i)-Estados2.get('r_%d' %j))\n",
    "      x=np.array((-G*Estados2.get('M%d' %i)*Estados2.get('M%d' %j)/ (spy.vnorm(Estados2.get('r_%d' %i)-Estados2.get('r_%d' %j) ))**3))  * np.array(Estados2.get('r_%d' %i)-Estados2.get('r_%d' %j))\n",
    "      F_+=np.array((-G*Estados2.get('M%d' %i)*Estados2.get('M%d' %j)/ (spy.vnorm(Estados2.get('r_%d' %i)-Estados2.get('r_%d' %j) ))**3))  * np.array(Estados2.get('r_%d' %i)-Estados2.get('r_%d' %j))\n",
    "      F.append(x)\n",
    "      v+=spy.vdot(r,x)\n",
    "\n",
    "      Total[f'F2{p}']=F_\n",
    "      p=p+1\n",
    "    #arreglos con las energías y las fuerzas para los 100 años tomados.\n",
    "    K_T = np.array([(value) for key, value in Total.items() if key.startswith(\"K\")])\n",
    "    U_T = np.array([(value) for key, value in Total.items() if key.startswith(\"U\")])\n",
    "    F_T = np.array([(value) for key, value in Total.items() if key.startswith(\"F\")])\n",
    "    return F_T,K_T, U_T,v\n",
    "    "
   ]
  },
  {
   "cell_type": "code",
   "execution_count": 30,
   "metadata": {},
   "outputs": [],
   "source": [
    "#--------------------------------------------\n",
    "#----Nueva lista de los objetos de interés---\n",
    "#--------------------------------------------\n",
    "id_list=[\n",
    "    'Jupiter Barycenter',\n",
    "    'Saturn Barycenter',\n",
    "    'Sun']\n",
    "F_T,K_T, U_T,v =energia_mecanica(id_list)\n",
    "#-------------------------------------\n",
    "#--- Energía total por 100 años. -----\n",
    "#-------------------------------------\n",
    "E_T=K_T+U_T"
   ]
  },
  {
   "cell_type": "markdown",
   "metadata": {},
   "source": [
    "## Punto 7\n",
    "* En el tiempo inicial, calcule las fuerzas que siente cada cuerpo y use la fórmula original del virial para V=∑ rᵢ⋅ Fᵢ para calcular su valor.  Compárelo con el valor de la energía potencial en ese tiempo inicial ¿coincide con lo visto en clase?.\n",
    "* Encuentre el promedio de K, U y E.  ¿Se cumple el teorema del virial para el sistema Sol, Júpiter y Saturno?\n"
   ]
  },
  {
   "cell_type": "code",
   "execution_count": 31,
   "metadata": {},
   "outputs": [
    {
     "name": "stdout",
     "output_type": "stream",
     "text": [
      "Virial del sistema: -3.88e+29\n",
      "Energía potencial del sistema: -3.62e+29\n"
     ]
    }
   ],
   "source": [
    "print(f'Virial del sistema: {v:.2e}')\n",
    "print(f'Energía potencial del sistema: {U_T[0]:.2e}')"
   ]
  },
  {
   "cell_type": "code",
   "execution_count": 32,
   "metadata": {},
   "outputs": [
    {
     "data": {
      "text/plain": [
       "1.0718554590213398"
      ]
     },
     "execution_count": 32,
     "metadata": {},
     "output_type": "execute_result"
    }
   ],
   "source": [
    "#-------------------------------------\n",
    "#--- Razón.  -------------------------\n",
    "#-------------------------------------\n",
    "v/U_T[0]"
   ]
  },
  {
   "cell_type": "code",
   "execution_count": 33,
   "metadata": {},
   "outputs": [],
   "source": [
    "#-------------------------------------\n",
    "#--- Promedio de K, U y E ------------\n",
    "#-------------------------------------\n",
    "kprom=np.mean(K_T)\n",
    "uprom=np.mean(U_T)\n",
    "eprom=np.mean(E_T)"
   ]
  },
  {
   "cell_type": "markdown",
   "metadata": {},
   "source": [
    " ¿Se cumple el teorema del virial para el sistema Sol, Júpiter y Saturno?\n",
    "\n",
    "<figure>\n",
    "<center>\n",
    "\n",
    "![](https://drive.google.com/uc?export=view&id=1IoRKc6kUHOFQ8hBJS0Iq-eHtTFDcJWsF)\n",
    "\n",
    "<figcaption>Tomado de: http://astronomia-udea.co/MecanicaCeleste-Zuluaga/mybook.pdf </figcaption></center>\n",
    "</figure>"
   ]
  },
  {
   "cell_type": "code",
   "execution_count": 35,
   "metadata": {},
   "outputs": [
    {
     "name": "stdout",
     "output_type": "stream",
     "text": [
      " La energía potencial promedio es: -3.76e+29 \n",
      " Y el negativo de dos veces la energía cinética promedio es: -3.76e+29\n"
     ]
    }
   ],
   "source": [
    "#--------------------------------------------------------------------------\n",
    "#verifiquemos que las igualdades que el teorema enuncia se cumplen para el sistema.\n",
    "#--------------------------------------------------------------------------\n",
    "print(f' La energía potencial promedio es: {uprom:.2e} \\n Y el negativo de dos veces la energía cinética promedio es: {-2*kprom:.2e}' )"
   ]
  },
  {
   "cell_type": "code",
   "execution_count": 36,
   "metadata": {},
   "outputs": [
    {
     "data": {
      "text/plain": [
       "0.9988394035909872"
      ]
     },
     "execution_count": 36,
     "metadata": {},
     "output_type": "execute_result"
    }
   ],
   "source": [
    "#-------------------------------------\n",
    "#--- Razón entre los dos -------------\n",
    "#-------------------------------------\n",
    "-2*kprom/uprom"
   ]
  },
  {
   "cell_type": "code",
   "execution_count": 37,
   "metadata": {},
   "outputs": [
    {
     "name": "stdout",
     "output_type": "stream",
     "text": [
      " La energía total promedio es: -1.88e+29 \n",
      " y el negativo de la energía cinética promedio es: -1.88e+29\n"
     ]
    }
   ],
   "source": [
    "print(f' La energía total promedio es: {eprom:.2e} \\n y el negativo de la energía cinética promedio es: {-kprom:.2e}' )"
   ]
  },
  {
   "cell_type": "code",
   "execution_count": 38,
   "metadata": {},
   "outputs": [
    {
     "data": {
      "text/plain": [
       "-1.0023238899163174"
      ]
     },
     "execution_count": 38,
     "metadata": {},
     "output_type": "execute_result"
    }
   ],
   "source": [
    "#-------------------------------------\n",
    "#--- Razón entre los dos -------------\n",
    "#-------------------------------------\n",
    "eprom/kprom"
   ]
  },
  {
   "cell_type": "code",
   "execution_count": 40,
   "metadata": {},
   "outputs": [
    {
     "data": {
      "text/plain": [
       "<matplotlib.legend.Legend at 0x7fbb7c0c1220>"
      ]
     },
     "execution_count": 40,
     "metadata": {},
     "output_type": "execute_result"
    },
    {
     "data": {
      "image/png": "[encoded data removed]",
      "text/plain": [
       "<Figure size 432x288 with 1 Axes>"
      ]
     },
     "metadata": {
      "needs_background": "light"
     },
     "output_type": "display_data"
    }
   ],
   "source": [
    "Time=np.linspace(0,100*365.25*86400,1200)\n",
    "plt.title('Energía vs Tiempo')\n",
    "plt.plot(Time,abs(E_T*1000000),'r:',label=\"$abs(E)$\")\n",
    "plt.plot(Time,abs(U_T*1000000),'g:',label=\"$abs(U)$\")\n",
    "plt.plot(Time,K_T*1000000,'b:',label=\"$K$\")\n",
    "plt.xlabel(\"$t$ (segundos)\");\n",
    "plt.ylabel(\"(Joules)\");\n",
    "plt.ylim(0,4.6*1e35)\n",
    "plt.grid()\n",
    "plt.legend();"
   ]
  },
  {
   "cell_type": "code",
   "execution_count": null,
   "metadata": {},
   "outputs": [],
   "source": []
  }
 ],
 "metadata": {
  "colab": {
   "collapsed_sections": [],
   "name": "RETO_2_.ipynb",
   "provenance": [
    {
     "file_id": "1iYLo6yPhjsVJ66aJAnGITfc9CnXbln5s",
     "timestamp": 1639533784189
    }
   ]
  },
  "kernelspec": {
   "display_name": "Python 3 (ipykernel)",
   "language": "python",
   "name": "python3"
  },
  "language_info": {
   "codemirror_mode": {
    "name": "ipython",
    "version": 3
   },
   "file_extension": ".py",
   "mimetype": "text/x-python",
   "name": "python",
   "nbconvert_exporter": "python",
   "pygments_lexer": "ipython3",
   "version": "3.9.12"
  }
 },
 "nbformat": 4,
 "nbformat_minor": 1
}
